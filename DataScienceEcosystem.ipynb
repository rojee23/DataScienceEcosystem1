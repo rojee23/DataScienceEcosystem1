{
 "cells": [
  {
   "cell_type": "markdown",
   "id": "1f23310e-b617-4e66-bb38-a45322e764f8",
   "metadata": {},
   "source": [
    "# Data Science Tools and Ecosystem"
   ]
  },
  {
   "cell_type": "markdown",
   "id": "25f73f38-9134-46fd-9e81-0015a7fbd262",
   "metadata": {},
   "source": [
    "In this notebook, Data Science Tools and Ecosystem are summarized."
   ]
  },
  {
   "cell_type": "markdown",
   "id": "96eea447-bfaf-4cf8-b2a1-3ca47b229150",
   "metadata": {},
   "source": [
    "Some of the popular languages that Data Scientists use are:\n",
    "1. Python  \n",
    "2. R  \n",
    "3. SQL  "
   ]
  },
  {
   "cell_type": "markdown",
   "id": "68e38d83-7b92-42c4-b850-f6ccbe02b14f",
   "metadata": {},
   "source": [
    "**Objectives:**\n",
    "- List popular languages for Data Science.  \n",
    "- Summarize key libraries used in Data Science.  \n",
    "- Introduce basic arithmetic operations in Python. "
   ]
  },
  {
   "cell_type": "markdown",
   "id": "72494a0c-1745-4ddd-9976-36c55f0c9beb",
   "metadata": {},
   "source": [
    "Some of the commonly used libraries used by Data Scientists include:  \n",
    "1. Pandas  \n",
    "2. NumPy  \n",
    "3. Matplotlib  "
   ]
  },
  {
   "cell_type": "markdown",
   "id": "18e27ae6-c13d-4637-bb61-3cc484ac7387",
   "metadata": {},
   "source": [
    "| Data Science Tools |\n",
    "|--------------------|\n",
    "|  Jupyter Notebook  |\n",
    "|     RStudio        |\n",
    "|   Apache Spark     |"
   ]
  },
  {
   "cell_type": "markdown",
   "id": "901adf97-9d9a-4d9e-b8e3-56d4c05a6fe9",
   "metadata": {},
   "source": [
    "### Below are a few examples of evaluating arithmetic expressions in Python"
   ]
  },
  {
   "cell_type": "code",
   "execution_count": 14,
   "id": "8adda1ee-61db-40ce-9bd6-4a3509f5e2b2",
   "metadata": {},
   "outputs": [
    {
     "data": {
      "text/plain": [
       "17"
      ]
     },
     "execution_count": 14,
     "metadata": {},
     "output_type": "execute_result"
    }
   ],
   "source": [
    "# This a simple arithmetic expression to mutiply then add integers\n",
    "(3*4)+5"
   ]
  },
  {
   "cell_type": "code",
   "execution_count": 16,
   "id": "16c713d7-f406-4c82-a6fd-d2d1acb541d0",
   "metadata": {},
   "outputs": [
    {
     "data": {
      "text/plain": [
       "3.3333333333333335"
      ]
     },
     "execution_count": 16,
     "metadata": {},
     "output_type": "execute_result"
    }
   ],
   "source": [
    "# This will convert 200 minutes to hours by diving by 60\n",
    "hours = 200 / 60 \n",
    "hours"
   ]
  },
  {
   "cell_type": "markdown",
   "id": "a6ddeb4d-90ee-407e-8e56-8af6c1072929",
   "metadata": {},
   "source": [
    "## Author\n",
    "Rojeena"
   ]
  },
  {
   "cell_type": "code",
   "execution_count": null,
   "id": "b9c11756-a853-4610-88dc-9873285a575b",
   "metadata": {},
   "outputs": [],
   "source": []
  }
 ],
 "metadata": {
  "kernelspec": {
   "display_name": "Python [conda env:base] *",
   "language": "python",
   "name": "conda-base-py"
  },
  "language_info": {
   "codemirror_mode": {
    "name": "ipython",
    "version": 3
   },
   "file_extension": ".py",
   "mimetype": "text/x-python",
   "name": "python",
   "nbconvert_exporter": "python",
   "pygments_lexer": "ipython3",
   "version": "3.12.7"
  }
 },
 "nbformat": 4,
 "nbformat_minor": 5
}
